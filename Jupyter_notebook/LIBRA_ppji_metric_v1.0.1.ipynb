{
 "cells": [
  {
   "cell_type": "markdown",
   "metadata": {},
   "source": [
    "# LIBRA example 2\n",
    "\n",
    "Compiled: June 15, 2021.\n",
    "\n",
    "PPJI metric: Integrated spaces preservation estimation from original independet omics. "
   ]
  },
  {
   "cell_type": "code",
   "execution_count": 1,
   "metadata": {},
   "outputs": [
    {
     "name": "stdout",
     "output_type": "stream",
     "text": [
      "[1] \"Requirements loaded\"\n"
     ]
    },
    {
     "data": {
      "text/html": [
       "<table class=\"dataframe\">\n",
       "<caption>A matrix: 2 × 6 of type dbl</caption>\n",
       "<thead>\n",
       "\t<tr><th></th><th scope=col>used</th><th scope=col>(Mb)</th><th scope=col>gc trigger</th><th scope=col>(Mb)</th><th scope=col>max used</th><th scope=col>(Mb)</th></tr>\n",
       "</thead>\n",
       "<tbody>\n",
       "\t<tr><th scope=row>Ncells</th><td>1989422</td><td>106.3</td><td>4054785</td><td>216.6</td><td>2506890</td><td>133.9</td></tr>\n",
       "\t<tr><th scope=row>Vcells</th><td>3371865</td><td> 25.8</td><td>8388608</td><td> 64.0</td><td>4559710</td><td> 34.8</td></tr>\n",
       "</tbody>\n",
       "</table>\n"
      ],
      "text/latex": [
       "A matrix: 2 × 6 of type dbl\n",
       "\\begin{tabular}{r|llllll}\n",
       "  & used & (Mb) & gc trigger & (Mb) & max used & (Mb)\\\\\n",
       "\\hline\n",
       "\tNcells & 1989422 & 106.3 & 4054785 & 216.6 & 2506890 & 133.9\\\\\n",
       "\tVcells & 3371865 &  25.8 & 8388608 &  64.0 & 4559710 &  34.8\\\\\n",
       "\\end{tabular}\n"
      ],
      "text/markdown": [
       "\n",
       "A matrix: 2 × 6 of type dbl\n",
       "\n",
       "| <!--/--> | used | (Mb) | gc trigger | (Mb) | max used | (Mb) |\n",
       "|---|---|---|---|---|---|---|\n",
       "| Ncells | 1989422 | 106.3 | 4054785 | 216.6 | 2506890 | 133.9 |\n",
       "| Vcells | 3371865 |  25.8 | 8388608 |  64.0 | 4559710 |  34.8 |\n",
       "\n"
      ],
      "text/plain": [
       "       used    (Mb)  gc trigger (Mb)  max used (Mb) \n",
       "Ncells 1989422 106.3 4054785    216.6 2506890  133.9\n",
       "Vcells 3371865  25.8 8388608     64.0 4559710   34.8"
      ]
     },
     "metadata": {},
     "output_type": "display_data"
    }
   ],
   "source": [
    "options(warn=-1)\n",
    "\n",
    "###########################\n",
    "#Prepare enviroment\n",
    "set.seed(1234567)\n",
    "options(stringsAsFactors = FALSE)\n",
    "\n",
    "#Commented resourcess will be required for training the model\n",
    "#library(\"keras\")\n",
    "#K <- keras::backend()\n",
    "#tensorflow::tf$compat$v1$disable_eager_execution()\n",
    "#print(\"backend mounted\")\n",
    "\n",
    "#Extra resources for manage data, clustering and visualization\n",
    "library(\"Seurat\")\n",
    "library(\"scclusteval\")\n",
    "library(\"ggplot2\")\n",
    "\n",
    "print(\"Requirements loaded\")\n",
    "gc()\n",
    "\n"
   ]
  },
  {
   "cell_type": "code",
   "execution_count": 2,
   "metadata": {},
   "outputs": [
    {
     "name": "stdout",
     "output_type": "stream",
     "text": [
      "[1] \"Loaded LIBRA output\"\n"
     ]
    },
    {
     "data": {
      "text/html": [
       "<style>\n",
       ".list-inline {list-style: none; margin:0; padding: 0}\n",
       ".list-inline>li {display: inline-block}\n",
       ".list-inline>li:not(:last-child)::after {content: \"\\00b7\"; padding: 0 .5ex}\n",
       "</style>\n",
       "<ol class=list-inline><li>'atac_preprocessed'</li><li>'atac_preprocessed_libras_base_clustering'</li><li>'cells_0'</li><li>'LIBRA'</li><li>'libra_prediction'</li><li>'libra_shared_space'</li><li>'n'</li><li>'rna_preprocessed'</li><li>'rna_preprocessed_libras_base_clustering'</li><li>'x_train2'</li></ol>\n"
      ],
      "text/latex": [
       "\\begin{enumerate*}\n",
       "\\item 'atac\\_preprocessed'\n",
       "\\item 'atac\\_preprocessed\\_libras\\_base\\_clustering'\n",
       "\\item 'cells\\_0'\n",
       "\\item 'LIBRA'\n",
       "\\item 'libra\\_prediction'\n",
       "\\item 'libra\\_shared\\_space'\n",
       "\\item 'n'\n",
       "\\item 'rna\\_preprocessed'\n",
       "\\item 'rna\\_preprocessed\\_libras\\_base\\_clustering'\n",
       "\\item 'x\\_train2'\n",
       "\\end{enumerate*}\n"
      ],
      "text/markdown": [
       "1. 'atac_preprocessed'\n",
       "2. 'atac_preprocessed_libras_base_clustering'\n",
       "3. 'cells_0'\n",
       "4. 'LIBRA'\n",
       "5. 'libra_prediction'\n",
       "6. 'libra_shared_space'\n",
       "7. 'n'\n",
       "8. 'rna_preprocessed'\n",
       "9. 'rna_preprocessed_libras_base_clustering'\n",
       "10. 'x_train2'\n",
       "\n",
       "\n"
      ],
      "text/plain": [
       " [1] \"atac_preprocessed\"                       \n",
       " [2] \"atac_preprocessed_libras_base_clustering\"\n",
       " [3] \"cells_0\"                                 \n",
       " [4] \"LIBRA\"                                   \n",
       " [5] \"libra_prediction\"                        \n",
       " [6] \"libra_shared_space\"                      \n",
       " [7] \"n\"                                       \n",
       " [8] \"rna_preprocessed\"                        \n",
       " [9] \"rna_preprocessed_libras_base_clustering\" \n",
       "[10] \"x_train2\"                                "
      ]
     },
     "metadata": {},
     "output_type": "display_data"
    }
   ],
   "source": [
    "setwd(\"/your_path\")\n",
    "load(\"LIBRA_output.RData\")\n",
    "print(\"Loaded LIBRA output\")\n"
   ]
  },
  {
   "cell_type": "markdown",
   "metadata": {},
   "source": [
    "**Pairwise Jaccard distance** between reference omic **RNA (y-axis)** clusters and integrated cluster obtain in **LIBRA (x-axis)**"
   ]
  },
  {
   "cell_type": "code",
   "execution_count": 7,
   "metadata": {},
   "outputs": [
    {
     "data": {
      "image/png": "[encoded data removed]",
      "text/plain": [
       "plot without title"
      ]
     },
     "metadata": {
      "image/png": {
       "height": 420,
       "width": 420
      }
     },
     "output_type": "display_data"
    }
   ],
   "source": [
    "jacard=PairWiseJaccardSetsHeatmap(rna_preprocessed@active.ident, LIBRA@active.ident,\n",
    "                           show_row_dend = F, show_column_dend = F,\n",
    "                           cluster_row = F, cluster_column =F)\n",
    "jacard"
   ]
  },
  {
   "cell_type": "markdown",
   "metadata": {},
   "source": [
    "**PPJI summarization** for **corresponding dataset**"
   ]
  },
  {
   "cell_type": "code",
   "execution_count": 9,
   "metadata": {},
   "outputs": [
    {
     "name": "stdout",
     "output_type": "stream",
     "text": [
      "[1] 0.8585357\n"
     ]
    }
   ],
   "source": [
    "ppji_score = c()\n",
    "jacard_distance_matrix = jacard@matrix\n",
    "is.na(jacard_distance_matrix) = jacard_distance_matrix==0\n",
    "jacard_distance_matrix = jacard_distance_matrix[,colSums(is.na(jacard_distance_matrix))<nrow(jacard_distance_matrix)]\n",
    "ppji_score = append(ppji_score, mean(apply(jacard_distance_matrix,1,sum, na.rm=TRUE)))\n",
    "print(ppji_score)"
   ]
  }
 ],
 "metadata": {
  "kernelspec": {
   "display_name": "R 3.5.2",
   "language": "R",
   "name": "ir352"
  },
  "language_info": {
   "codemirror_mode": "r",
   "file_extension": ".r",
   "mimetype": "text/x-r-source",
   "name": "R",
   "pygments_lexer": "r",
   "version": "3.5.2"
  }
 },
 "nbformat": 4,
 "nbformat_minor": 2
}

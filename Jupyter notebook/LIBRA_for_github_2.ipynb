{
 "cells": [
  {
   "cell_type": "markdown",
   "metadata": {},
   "source": [
    "# LIBRA example 2\n",
    "\n",
    "PPJI metric: Integrated spaces preservation estimation from original independet omics. "
   ]
  },
  {
   "cell_type": "code",
   "execution_count": 1,
   "metadata": {},
   "outputs": [
    {
     "name": "stdout",
     "output_type": "stream",
     "text": [
      "[1] \"Requirements loaded\"\n"
     ]
    },
    {
     "data": {
      "text/html": [
       "<table class=\"dataframe\">\n",
       "<caption>A matrix: 2 × 6 of type dbl</caption>\n",
       "<thead>\n",
       "\t<tr><th></th><th scope=col>used</th><th scope=col>(Mb)</th><th scope=col>gc trigger</th><th scope=col>(Mb)</th><th scope=col>max used</th><th scope=col>(Mb)</th></tr>\n",
       "</thead>\n",
       "<tbody>\n",
       "\t<tr><th scope=row>Ncells</th><td>1989422</td><td>106.3</td><td>4054785</td><td>216.6</td><td>2506890</td><td>133.9</td></tr>\n",
       "\t<tr><th scope=row>Vcells</th><td>3371865</td><td> 25.8</td><td>8388608</td><td> 64.0</td><td>4559710</td><td> 34.8</td></tr>\n",
       "</tbody>\n",
       "</table>\n"
      ],
      "text/latex": [
       "A matrix: 2 × 6 of type dbl\n",
       "\\begin{tabular}{r|llllll}\n",
       "  & used & (Mb) & gc trigger & (Mb) & max used & (Mb)\\\\\n",
       "\\hline\n",
       "\tNcells & 1989422 & 106.3 & 4054785 & 216.6 & 2506890 & 133.9\\\\\n",
       "\tVcells & 3371865 &  25.8 & 8388608 &  64.0 & 4559710 &  34.8\\\\\n",
       "\\end{tabular}\n"
      ],
      "text/markdown": [
       "\n",
       "A matrix: 2 × 6 of type dbl\n",
       "\n",
       "| <!--/--> | used | (Mb) | gc trigger | (Mb) | max used | (Mb) |\n",
       "|---|---|---|---|---|---|---|\n",
       "| Ncells | 1989422 | 106.3 | 4054785 | 216.6 | 2506890 | 133.9 |\n",
       "| Vcells | 3371865 |  25.8 | 8388608 |  64.0 | 4559710 |  34.8 |\n",
       "\n"
      ],
      "text/plain": [
       "       used    (Mb)  gc trigger (Mb)  max used (Mb) \n",
       "Ncells 1989422 106.3 4054785    216.6 2506890  133.9\n",
       "Vcells 3371865  25.8 8388608     64.0 4559710   34.8"
      ]
     },
     "metadata": {},
     "output_type": "display_data"
    }
   ],
   "source": [
    "options(warn=-1)\n",
    "\n",
    "###########################\n",
    "#Prepare enviroment\n",
    "set.seed(1234567)\n",
    "options(stringsAsFactors = FALSE)\n",
    "\n",
    "#Commented resourcess will be required for training the model\n",
    "#library(\"keras\")\n",
    "#K <- keras::backend()\n",
    "#tensorflow::tf$compat$v1$disable_eager_execution()\n",
    "#print(\"backend mounted\")\n",
    "\n",
    "#Extra resources for manage data, clustering and visualization\n",
    "library(\"Seurat\")\n",
    "library(\"scclusteval\")\n",
    "library(\"ggplot2\")\n",
    "\n",
    "print(\"Requirements loaded\")\n",
    "gc()\n",
    "\n"
   ]
  },
  {
   "cell_type": "code",
   "execution_count": null,
   "metadata": {},
   "outputs": [],
   "source": [
    "setwd(\"/datos_2/phD_raw_data_2/OUTPUTS_2_ae_peaks_test_7_100pcent/q0/\")\n",
    "load(\"LIBRA_output.RData\")\n",
    "print(\"Loaded LIBRA output\")\n",
    "ls()"
   ]
  }
 ],
 "metadata": {
  "kernelspec": {
   "display_name": "R 3.5.2",
   "language": "R",
   "name": "ir352"
  },
  "language_info": {
   "codemirror_mode": "r",
   "file_extension": ".r",
   "mimetype": "text/x-r-source",
   "name": "R",
   "pygments_lexer": "r",
   "version": "3.5.2"
  }
 },
 "nbformat": 4,
 "nbformat_minor": 2
}
